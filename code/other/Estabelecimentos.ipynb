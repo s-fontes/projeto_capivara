{
 "cells": [
  {
   "cell_type": "code",
   "id": "6ba29c88-7a03-4b0a-bb15-1f6f8e1755e8",
   "metadata": {},
   "source": [
    "\n",
    "from delta.tables import *\n",
    "from pyspark.sql import *\n",
    "from pyspark.sql.functions import *\n",
    "from pyspark.sql.utils import *\n",
    "from pyspark.sql.window import *"
   ],
   "outputs": [],
   "execution_count": null
  },
  {
   "cell_type": "code",
   "id": "2835dd32-1b93-430d-8c0d-3072fefebabf",
   "metadata": {},
   "source": [
    "spark = SparkSession.builder.getOrCreate()"
   ],
   "outputs": [],
   "execution_count": null
  },
  {
   "cell_type": "code",
   "id": "137fee5d-119d-4b3a-83fc-0673948187d0",
   "metadata": {},
   "source": [
    "##READ FILES\n",
    "\n",
    "manual_columns = [\n",
    "    \"cnpj_basico\", \"cnpj_ordem\", \"cnpj_dv\", \"id_matriz_filial\", \"nome_fantasia\", \"situacao_cadastral\",\n",
    "    \"data_situacao_cadastral\",\n",
    "    \"motivo_situacao_cadastral\", \"nome_cidade_exterior\", \"pais\", \"data_inicio_atividade\", \"cnae_fiscal_princ\",\n",
    "    \"cnae_fiscal_sec\",\n",
    "    \"tipo_logradouro\", \"logradouro\", \"numero\", \"complemento\", \"bairro\", \"cep\", \"uf\", \"municipio\", \"ddd1\", \"telefone1\",\n",
    "    \"ddd2\",\n",
    "    \"telefone2\", \"ddd_fax\", \"fax\", \"email\", \"situacao_especial\", \"data_situacao_especial\"\n",
    "]\n",
    "\n",
    "df_estabelecimentos = spark.read.format(\"csv\").option(\"header\", \"false\").option(\"sep\", \";\").load(\n",
    "    './Estabelecimento/*.csv')\n",
    "df_estabelecimentos = df_empresas.toDF(*manual_columns)\n",
    "df_estabelecimentos.createOrReplaceTempView(\"estabelecimento\")"
   ],
   "outputs": [],
   "execution_count": null
  },
  {
   "cell_type": "code",
   "id": "1a2b9396-6fbc-40cd-ae74-d9cdf1232bce",
   "metadata": {},
   "source": [
    "df_estabelecimento_ajustado = spark.sql('''\n",
    "    SELECT\n",
    "        CONCAT(cnpj_basico, cnpj_ordem, cnpj_dv) AS cnpj,\n",
    "        CASE \n",
    "            WHEN id_matriz_filial = 1 THEN 'MATRIZ'\n",
    "            WHEN id_matriz_filial = 2 THEN 'FILIAL'\n",
    "        ELSE \n",
    "            'DESCONHECIDO'\n",
    "        END AS tipo_unidade,\n",
    "        nome_fantasia,\n",
    "        CASE \n",
    "            WHEN situacao_cadastral = '01' THEN 'NULA'\n",
    "            WHEN situacao_cadastral = '02' THEN 'ATIVA'\n",
    "            WHEN situacao_cadastral = '03' THEN 'SUSPENSA'\n",
    "            WHEN situacao_cadastral = '04' THEN 'INAPTA'\n",
    "            WHEN situacao_cadastral = '08' THEN 'BAIXADA'\n",
    "        ELSE \n",
    "            'DESCONHECIDO'\n",
    "        END AS situacao_cadastral,\n",
    "        data_situacao_cadastral,\n",
    "        motivo_situacao_cadastral,\n",
    "        nome_cidade_exterior,\n",
    "        pais,\n",
    "        data_inicio_atividade,\n",
    "        cnae_fiscal_princ,\n",
    "        cnae_fiscal_sec,\n",
    "        tipo_logradouro,\n",
    "        logradouro,\n",
    "        numero,\n",
    "        complemento,\n",
    "        bairro,\n",
    "        cep,\n",
    "        uf,\n",
    "        municipio,\n",
    "        ddd1,\n",
    "        telefone1,\n",
    "        ddd2,\n",
    "        telefone2,\n",
    "        ddd_fax,\n",
    "        fax,\n",
    "        email,\n",
    "        situacao_especial,\n",
    "        data_situacao_especial\n",
    "    FROM\n",
    "        estabelecimento\n",
    "''')\n",
    "df_estabelecimento_ajustado.createOrReplaceTempView(\"estabelecimento_ajustado\")"
   ],
   "outputs": [],
   "execution_count": null
  },
  {
   "cell_type": "code",
   "id": "17873989-1fe3-432d-8ea9-237541ef1b9f",
   "metadata": {},
   "source": "df_estabelecimento_ajustado.coalesce(1).write.mode('overwrite').parquet('./Estabelecimento/estabelecimento_parquet')",
   "outputs": [],
   "execution_count": null
  }
 ],
 "metadata": {
  "kernelspec": {
   "display_name": "PySpark",
   "language": "python",
   "name": "spark_magic_pyspark"
  },
  "language_info": {
   "codemirror_mode": {
    "name": "python",
    "version": 3
   },
   "file_extension": ".py",
   "mimetype": "text/x-python",
   "name": "pyspark",
   "pygments_lexer": "python3"
  }
 },
 "nbformat": 4,
 "nbformat_minor": 5
}

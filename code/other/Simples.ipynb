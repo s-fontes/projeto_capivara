{
 "cells": [
  {
   "cell_type": "code",
   "id": "6ba29c88-7a03-4b0a-bb15-1f6f8e1755e8",
   "metadata": {
    "execution": {
     "iopub.execute_input": "2024-07-25T13:08:34.928358Z",
     "iopub.status.busy": "2024-07-25T13:08:34.928078Z",
     "iopub.status.idle": "2024-07-25T13:09:27.794627Z",
     "shell.execute_reply": "2024-07-25T13:09:27.794086Z",
     "shell.execute_reply.started": "2024-07-25T13:08:34.928337Z"
    },
    "tags": []
   },
   "source": [
    "\n",
    "from delta.tables import *\n",
    "from pyspark.sql import *\n",
    "from pyspark.sql.functions import *\n",
    "from pyspark.sql.types import StringType\n",
    "from pyspark.sql.utils import *\n",
    "from pyspark.sql.window import *"
   ],
   "outputs": [],
   "execution_count": null
  },
  {
   "cell_type": "code",
   "id": "2835dd32-1b93-430d-8c0d-3072fefebabf",
   "metadata": {
    "execution": {
     "iopub.execute_input": "2024-07-25T13:09:27.795872Z",
     "iopub.status.busy": "2024-07-25T13:09:27.795647Z",
     "iopub.status.idle": "2024-07-25T13:09:29.525778Z",
     "shell.execute_reply": "2024-07-25T13:09:29.525212Z",
     "shell.execute_reply.started": "2024-07-25T13:09:27.795852Z"
    },
    "tags": []
   },
   "source": [
    "spark = SparkSession.builder.getOrCreate()"
   ],
   "outputs": [],
   "execution_count": null
  },
  {
   "cell_type": "code",
   "id": "bbd3c11c-1385-40a2-8109-937c5875e16f",
   "metadata": {
    "execution": {
     "iopub.execute_input": "2024-07-25T13:17:40.889541Z",
     "iopub.status.busy": "2024-07-25T13:17:40.889194Z",
     "iopub.status.idle": "2024-07-25T13:17:41.039043Z",
     "shell.execute_reply": "2024-07-25T13:17:41.038364Z",
     "shell.execute_reply.started": "2024-07-25T13:17:40.889520Z"
    },
    "tags": []
   },
   "source": [
    "def calcular_digitos_verificadores(df):\n",
    "    # Remove caracteres não numéricos do CNPJ\n",
    "    df = df.withColumn(\"cnpj_base\", expr(\"regexp_replace(cnpj, '[^0-9]', '')\"))\n",
    "\n",
    "    # Verifica se o CNPJ tem 12 dígitos\n",
    "    df = df.filter(length(col(\"cnpj_base\")) == 12)\n",
    "\n",
    "    # Cálculo do primeiro dígito verificador\n",
    "    df = df.withColumn(\"soma_1\", col(\"cnpj_base\").substr(1, 1).cast(\"int\") * 5 +\n",
    "                       col(\"cnpj_base\").substr(2, 1).cast(\"int\") * 4 +\n",
    "                       col(\"cnpj_base\").substr(3, 1).cast(\"int\") * 3 +\n",
    "                       col(\"cnpj_base\").substr(4, 1).cast(\"int\") * 2 +\n",
    "                       col(\"cnpj_base\").substr(5, 1).cast(\"int\") * 9 +\n",
    "                       col(\"cnpj_base\").substr(6, 1).cast(\"int\") * 8 +\n",
    "                       col(\"cnpj_base\").substr(7, 1).cast(\"int\") * 7 +\n",
    "                       col(\"cnpj_base\").substr(8, 1).cast(\"int\") * 6 +\n",
    "                       col(\"cnpj_base\").substr(9, 1).cast(\"int\") * 5 +\n",
    "                       col(\"cnpj_base\").substr(10, 1).cast(\"int\") * 4 +\n",
    "                       col(\"cnpj_base\").substr(11, 1).cast(\"int\") * 3 +\n",
    "                       col(\"cnpj_base\").substr(12, 1).cast(\"int\") * 2)\n",
    "\n",
    "    df = df.withColumn(\"resto_1\", col(\"soma_1\") % 11)\n",
    "    df = df.withColumn(\"digito_1\", when(col(\"resto_1\") < 2, 0).otherwise(11 - col(\"resto_1\")))\n",
    "\n",
    "    # Adiciona o primeiro dígito verificador ao CNPJ\n",
    "    df = df.withColumn(\"cnpj_com_digito_1\", concat(col(\"cnpj_base\"), col(\"digito_1\").cast(StringType())))\n",
    "\n",
    "    # Cálculo do segundo dígito verificador\n",
    "    df = df.withColumn(\"soma_2\", col(\"cnpj_com_digito_1\").substr(1, 1).cast(\"int\") * 6 +\n",
    "                       col(\"cnpj_com_digito_1\").substr(2, 1).cast(\"int\") * 5 +\n",
    "                       col(\"cnpj_com_digito_1\").substr(3, 1).cast(\"int\") * 4 +\n",
    "                       col(\"cnpj_com_digito_1\").substr(4, 1).cast(\"int\") * 3 +\n",
    "                       col(\"cnpj_com_digito_1\").substr(5, 1).cast(\"int\") * 2 +\n",
    "                       col(\"cnpj_com_digito_1\").substr(6, 1).cast(\"int\") * 9 +\n",
    "                       col(\"cnpj_com_digito_1\").substr(7, 1).cast(\"int\") * 8 +\n",
    "                       col(\"cnpj_com_digito_1\").substr(8, 1).cast(\"int\") * 7 +\n",
    "                       col(\"cnpj_com_digito_1\").substr(9, 1).cast(\"int\") * 6 +\n",
    "                       col(\"cnpj_com_digito_1\").substr(10, 1).cast(\"int\") * 5 +\n",
    "                       col(\"cnpj_com_digito_1\").substr(11, 1).cast(\"int\") * 4 +\n",
    "                       col(\"cnpj_com_digito_1\").substr(12, 1).cast(\"int\") * 3 +\n",
    "                       col(\"cnpj_com_digito_1\").substr(13, 1).cast(\"int\") * 2)\n",
    "\n",
    "    df = df.withColumn(\"resto_2\", col(\"soma_2\") % 11)\n",
    "    df = df.withColumn(\"digito_2\", when(col(\"resto_2\") < 2, 0).otherwise(11 - col(\"resto_2\")))\n",
    "\n",
    "    # Combina os dígitos verificadores\n",
    "    df = df.withColumn(\"digitos_verificadores\",\n",
    "                       concat(col(\"digito_1\").cast(StringType()), col(\"digito_2\").cast(StringType())))\n",
    "\n",
    "    return df.select(\"cnpj\", \"opcao_simples\", \"data_opcao_simples\", \"data_exclusao_simples\", \"opcao_mei\",\n",
    "                     \"data_opcao_mei\", \"data_exclusao_mei\", \"digitos_verificadores\")\n"
   ],
   "outputs": [],
   "execution_count": null
  },
  {
   "cell_type": "code",
   "id": "137fee5d-119d-4b3a-83fc-0673948187d0",
   "metadata": {
    "execution": {
     "iopub.execute_input": "2024-07-25T13:17:43.043592Z",
     "iopub.status.busy": "2024-07-25T13:17:43.043258Z",
     "iopub.status.idle": "2024-07-25T13:17:43.930635Z",
     "shell.execute_reply": "2024-07-25T13:17:43.929974Z",
     "shell.execute_reply.started": "2024-07-25T13:17:43.043570Z"
    },
    "tags": []
   },
   "source": [
    "##READ FILES\n",
    "\n",
    "manual_columns = [\"cnpj\", \"opcao_simples\", \"data_opcao_simples\", \"data_exclusao_simples\", \"opcao_mei\", \"data_opcao_mei\",\n",
    "                  \"data_exclusao_mei\"]\n",
    "\n",
    "df_simples = spark.read.format(\"csv\").option(\"header\", \"false\").option(\"sep\", \";\").load('./Simples/*.csv')\n",
    "df_simples = df_simples.toDF(*manual_columns)\n",
    "df_simples.createOrReplaceTempView(\"simples\")"
   ],
   "outputs": [],
   "execution_count": null
  },
  {
   "cell_type": "code",
   "id": "95c8d7a2-d416-4200-a6b3-52657a6ab136",
   "metadata": {
    "execution": {
     "iopub.execute_input": "2024-07-25T13:21:23.643821Z",
     "iopub.status.busy": "2024-07-25T13:21:23.643525Z",
     "iopub.status.idle": "2024-07-25T13:21:29.134774Z",
     "shell.execute_reply": "2024-07-25T13:21:29.134199Z",
     "shell.execute_reply.started": "2024-07-25T13:21:23.643801Z"
    },
    "tags": []
   },
   "source": [
    "df_simples.count()"
   ],
   "outputs": [],
   "execution_count": null
  },
  {
   "cell_type": "code",
   "id": "a9490368-0789-4ff3-a7d6-04c6f0102dce",
   "metadata": {
    "execution": {
     "iopub.execute_input": "2024-07-25T13:21:18.106777Z",
     "iopub.status.busy": "2024-07-25T13:21:18.106299Z",
     "iopub.status.idle": "2024-07-25T13:21:23.642432Z",
     "shell.execute_reply": "2024-07-25T13:21:23.641867Z",
     "shell.execute_reply.started": "2024-07-25T13:21:18.106756Z"
    },
    "tags": []
   },
   "source": [
    "df_simples_ajustado = spark.sql('''\n",
    "    SELECT \n",
    "        CONCAT(cnpj, '0001') as cnpj,\n",
    "        opcao_simples,\n",
    "        data_opcao_simples,\n",
    "        data_exclusao_simples,\n",
    "        opcao_mei,\n",
    "        data_opcao_mei,\n",
    "        data_exclusao_mei \n",
    "    FROM\n",
    "        simples\n",
    "''')\n",
    "df_simples_ajustado.count()"
   ],
   "outputs": [],
   "execution_count": null
  },
  {
   "cell_type": "code",
   "id": "fa899962-6c24-4b0c-a040-c0c4a02e7cc4",
   "metadata": {
    "execution": {
     "iopub.execute_input": "2024-07-25T13:20:48.095304Z",
     "iopub.status.busy": "2024-07-25T13:20:48.094713Z",
     "iopub.status.idle": "2024-07-25T13:21:01.685562Z",
     "shell.execute_reply": "2024-07-25T13:21:01.685023Z",
     "shell.execute_reply.started": "2024-07-25T13:20:48.095281Z"
    },
    "tags": []
   },
   "source": [
    "resultado = calcular_digitos_verificadores(df_simples_ajustado)\n",
    "resultado.createOrReplaceTempView('resultado')\n",
    "\n",
    "df_final = spark.sql('''\n",
    "    SELECT \n",
    "        CONCAT(cnpj, digitos_verificadores) as cnpj,\n",
    "        opcao_simples,\n",
    "        data_opcao_simples,\n",
    "        data_exclusao_simples,\n",
    "        opcao_mei,\n",
    "        data_opcao_mei,\n",
    "        data_exclusao_mei \n",
    "    FROM\n",
    "        resultado\n",
    "''')\n",
    "df_final.count()"
   ],
   "outputs": [],
   "execution_count": null
  },
  {
   "cell_type": "code",
   "id": "17873989-1fe3-432d-8ea9-237541ef1b9f",
   "metadata": {
    "execution": {
     "iopub.execute_input": "2024-07-25T13:21:35.243385Z",
     "iopub.status.busy": "2024-07-25T13:21:35.243066Z",
     "iopub.status.idle": "2024-07-25T13:25:21.385428Z",
     "shell.execute_reply": "2024-07-25T13:25:21.384902Z",
     "shell.execute_reply.started": "2024-07-25T13:21:35.243364Z"
    },
    "tags": []
   },
   "source": "df_final.coalesce(1).write.mode('overwrite').parquet('./Simples/arquivo_parquet')",
   "outputs": [],
   "execution_count": null
  }
 ],
 "metadata": {
  "kernelspec": {
   "display_name": "PySpark",
   "language": "python",
   "name": "spark_magic_pyspark"
  },
  "language_info": {
   "codemirror_mode": {
    "name": "python",
    "version": 3
   },
   "file_extension": ".py",
   "mimetype": "text/x-python",
   "name": "pyspark",
   "pygments_lexer": "python3"
  }
 },
 "nbformat": 4,
 "nbformat_minor": 5
}

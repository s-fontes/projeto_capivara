{
 "cells": [
  {
   "cell_type": "code",
   "id": "6ba29c88-7a03-4b0a-bb15-1f6f8e1755e8",
   "metadata": {},
   "source": [
    "\n",
    "from delta.tables import *\n",
    "from pyspark.sql import *\n",
    "from pyspark.sql.functions import *\n",
    "from pyspark.sql.types import StringType\n",
    "from pyspark.sql.utils import *\n",
    "from pyspark.sql.window import *"
   ],
   "outputs": [],
   "execution_count": null
  },
  {
   "cell_type": "code",
   "id": "2835dd32-1b93-430d-8c0d-3072fefebabf",
   "metadata": {},
   "source": [
    "spark = SparkSession.builder.getOrCreate()"
   ],
   "outputs": [],
   "execution_count": null
  },
  {
   "cell_type": "code",
   "id": "b78c0048-0b92-4dfa-b8dc-a95998a687ee",
   "metadata": {},
   "source": [
    "def calcular_digitos_verificadores(df):\n",
    "    # Remove caracteres não numéricos do CNPJ\n",
    "    df = df.withColumn(\"cnpj_base\", expr(\"regexp_replace(cnpj, '[^0-9]', '')\"))\n",
    "\n",
    "    # Verifica se o CNPJ tem 12 dígitos\n",
    "    df = df.filter(length(col(\"cnpj_base\")) == 12)\n",
    "\n",
    "    # Cálculo do primeiro dígito verificador\n",
    "    df = df.withColumn(\"soma_1\", col(\"cnpj_base\").substr(1, 1).cast(\"int\") * 5 +\n",
    "                       col(\"cnpj_base\").substr(2, 1).cast(\"int\") * 4 +\n",
    "                       col(\"cnpj_base\").substr(3, 1).cast(\"int\") * 3 +\n",
    "                       col(\"cnpj_base\").substr(4, 1).cast(\"int\") * 2 +\n",
    "                       col(\"cnpj_base\").substr(5, 1).cast(\"int\") * 9 +\n",
    "                       col(\"cnpj_base\").substr(6, 1).cast(\"int\") * 8 +\n",
    "                       col(\"cnpj_base\").substr(7, 1).cast(\"int\") * 7 +\n",
    "                       col(\"cnpj_base\").substr(8, 1).cast(\"int\") * 6 +\n",
    "                       col(\"cnpj_base\").substr(9, 1).cast(\"int\") * 5 +\n",
    "                       col(\"cnpj_base\").substr(10, 1).cast(\"int\") * 4 +\n",
    "                       col(\"cnpj_base\").substr(11, 1).cast(\"int\") * 3 +\n",
    "                       col(\"cnpj_base\").substr(12, 1).cast(\"int\") * 2)\n",
    "\n",
    "    df = df.withColumn(\"resto_1\", col(\"soma_1\") % 11)\n",
    "    df = df.withColumn(\"digito_1\", when(col(\"resto_1\") < 2, 0).otherwise(11 - col(\"resto_1\")))\n",
    "\n",
    "    # Adiciona o primeiro dígito verificador ao CNPJ\n",
    "    df = df.withColumn(\"cnpj_com_digito_1\", concat(col(\"cnpj_base\"), col(\"digito_1\").cast(StringType())))\n",
    "\n",
    "    # Cálculo do segundo dígito verificador\n",
    "    df = df.withColumn(\"soma_2\", col(\"cnpj_com_digito_1\").substr(1, 1).cast(\"int\") * 6 +\n",
    "                       col(\"cnpj_com_digito_1\").substr(2, 1).cast(\"int\") * 5 +\n",
    "                       col(\"cnpj_com_digito_1\").substr(3, 1).cast(\"int\") * 4 +\n",
    "                       col(\"cnpj_com_digito_1\").substr(4, 1).cast(\"int\") * 3 +\n",
    "                       col(\"cnpj_com_digito_1\").substr(5, 1).cast(\"int\") * 2 +\n",
    "                       col(\"cnpj_com_digito_1\").substr(6, 1).cast(\"int\") * 9 +\n",
    "                       col(\"cnpj_com_digito_1\").substr(7, 1).cast(\"int\") * 8 +\n",
    "                       col(\"cnpj_com_digito_1\").substr(8, 1).cast(\"int\") * 7 +\n",
    "                       col(\"cnpj_com_digito_1\").substr(9, 1).cast(\"int\") * 6 +\n",
    "                       col(\"cnpj_com_digito_1\").substr(10, 1).cast(\"int\") * 5 +\n",
    "                       col(\"cnpj_com_digito_1\").substr(11, 1).cast(\"int\") * 4 +\n",
    "                       col(\"cnpj_com_digito_1\").substr(12, 1).cast(\"int\") * 3 +\n",
    "                       col(\"cnpj_com_digito_1\").substr(13, 1).cast(\"int\") * 2)\n",
    "\n",
    "    df = df.withColumn(\"resto_2\", col(\"soma_2\") % 11)\n",
    "    df = df.withColumn(\"digito_2\", when(col(\"resto_2\") < 2, 0).otherwise(11 - col(\"resto_2\")))\n",
    "\n",
    "    # Combina os dígitos verificadores\n",
    "    df = df.withColumn(\"digitos_verificadores\",\n",
    "                       concat(col(\"digito_1\").cast(StringType()), col(\"digito_2\").cast(StringType())))\n",
    "\n",
    "    return df.select(\"cnpj\", \"razao_social\", \"qualificacao_responsavel\", \"capital_social\", \"porte\", \"ente_federativo\",\n",
    "                     \"digitos_verificadores\")\n"
   ],
   "outputs": [],
   "execution_count": null
  },
  {
   "cell_type": "code",
   "id": "137fee5d-119d-4b3a-83fc-0673948187d0",
   "metadata": {},
   "source": [
    "##READ FILES\n",
    "\n",
    "manual_columns = [\n",
    "    \"cnpj_basico\", \"razao_social\", \"natureza_juridica\", \"qualificacao_responsavel\", \"capital_social\",\n",
    "    \"porte\", \"ente_federativo\"\n",
    "]\n",
    "\n",
    "df_empresas = spark.read.format(\"csv\").option(\"header\", \"false\").option(\"sep\", \";\").load('./Empresa/*.csv')\n",
    "df_empresas = df_empresas.toDF(*manual_columns)\n",
    "df_empresas.createOrReplaceTempView(\"empresas\")"
   ],
   "outputs": [],
   "execution_count": null
  },
  {
   "cell_type": "code",
   "id": "1a2b9396-6fbc-40cd-ae74-d9cdf1232bce",
   "metadata": {},
   "source": [
    "df_empresa_ajustado = spark.sql('''\n",
    "    SELECT \n",
    "        CONCAT(cnpj_basico, '0001') AS cnpj,\n",
    "        razao_social,\n",
    "        natureza_juridica\n",
    "        qualificacao_responsavel,\n",
    "        capital_social,\n",
    "        CASE \n",
    "            WHEN porte = '00' THEN 'NAO INFORMADO'\n",
    "            WHEN porte = '01' THEN 'MICRO EMPRESA'\n",
    "            WHEN porte = '03' THEN 'EMPRESA DE PEQUENO PORTE'\n",
    "            WHEN porte = '05' THEN 'DEMAIS'\n",
    "        ELSE\n",
    "            'INDETERMINADO'\n",
    "        END AS porte,\n",
    "        ente_federativo\n",
    "    FROM\n",
    "        empresas\n",
    "''')\n",
    "df_empresa_ajustado.show()"
   ],
   "outputs": [],
   "execution_count": null
  },
  {
   "cell_type": "code",
   "id": "17873989-1fe3-432d-8ea9-237541ef1b9f",
   "metadata": {},
   "source": [
    "resultado = calcular_digitos_verificadores(df_empresa_ajustado)\n",
    "resultado.createOrReplaceTempView('resultado')\n",
    "\n",
    "df_final = spark.sql('''\n",
    "    SELECT \n",
    "        CONCAT(cnpj, digitos_verificadores) as cnpj,\n",
    "        razao_social,\n",
    "        qualificacao_responsavel,\n",
    "        capital_social,\n",
    "        porte,\n",
    "        ente_federativo\n",
    "    FROM\n",
    "        resultado\n",
    "''')\n",
    "df_final.show()"
   ],
   "outputs": [],
   "execution_count": null
  },
  {
   "cell_type": "code",
   "id": "8847e45c-bdfb-41a5-aceb-4b5cb08a5ce9",
   "metadata": {},
   "source": "df_final.coalesce(1).write.mode('overwrite').parquet('./Empresa/empresas_parquet')",
   "outputs": [],
   "execution_count": null
  }
 ],
 "metadata": {
  "kernelspec": {
   "display_name": "PySpark",
   "language": "python",
   "name": "spark_magic_pyspark"
  },
  "language_info": {
   "codemirror_mode": {
    "name": "python",
    "version": 3
   },
   "file_extension": ".py",
   "mimetype": "text/x-python",
   "name": "pyspark",
   "pygments_lexer": "python3"
  }
 },
 "nbformat": 4,
 "nbformat_minor": 5
}

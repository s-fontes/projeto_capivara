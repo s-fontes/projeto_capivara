{
 "cells": [
  {
   "cell_type": "code",
   "id": "6ba29c88-7a03-4b0a-bb15-1f6f8e1755e8",
   "metadata": {
    "execution": {
     "iopub.execute_input": "2024-07-25T12:36:17.513842Z",
     "iopub.status.busy": "2024-07-25T12:36:17.513409Z",
     "iopub.status.idle": "2024-07-25T12:37:02.033759Z",
     "shell.execute_reply": "2024-07-25T12:37:02.032994Z",
     "shell.execute_reply.started": "2024-07-25T12:36:17.513809Z"
    },
    "tags": []
   },
   "source": [
    "\n",
    "from delta.tables import *\n",
    "from pyspark.sql import *\n",
    "from pyspark.sql.functions import *\n",
    "from pyspark.sql.utils import *\n",
    "from pyspark.sql.window import *"
   ],
   "outputs": [],
   "execution_count": null
  },
  {
   "cell_type": "code",
   "id": "2835dd32-1b93-430d-8c0d-3072fefebabf",
   "metadata": {
    "execution": {
     "iopub.execute_input": "2024-07-25T12:37:02.035406Z",
     "iopub.status.busy": "2024-07-25T12:37:02.035064Z",
     "iopub.status.idle": "2024-07-25T12:37:03.568069Z",
     "shell.execute_reply": "2024-07-25T12:37:03.567348Z",
     "shell.execute_reply.started": "2024-07-25T12:37:02.035380Z"
    }
   },
   "source": [
    "spark = SparkSession.builder.getOrCreate()"
   ],
   "outputs": [],
   "execution_count": null
  },
  {
   "cell_type": "code",
   "id": "137fee5d-119d-4b3a-83fc-0673948187d0",
   "metadata": {
    "execution": {
     "iopub.execute_input": "2024-07-25T12:59:25.159504Z",
     "iopub.status.busy": "2024-07-25T12:59:25.158891Z",
     "iopub.status.idle": "2024-07-25T12:59:26.134796Z",
     "shell.execute_reply": "2024-07-25T12:59:26.133575Z",
     "shell.execute_reply.started": "2024-07-25T12:59:25.159464Z"
    },
    "tags": []
   },
   "source": [
    "##READ FILES\n",
    "\n",
    "manual_columns = [\n",
    "    \"ano\", \"cnpj\", \"cnpj_scp\", \"forma_tributacao\", \"quantidade_escrituracoes\"\n",
    "]\n",
    "\n",
    "df_regime_tributario = spark.read.format(\"csv\").option(\"header\", \"false\").option(\"sep\", \";\").load(\n",
    "    './Regime_Tributario/*.csv')\n",
    "df_regime_tributario = df_regime_tributario.toDF(*manual_columns)\n",
    "df_regime_tributario.createOrReplaceTempView(\"regime_tributario\")"
   ],
   "outputs": [],
   "execution_count": null
  },
  {
   "cell_type": "code",
   "id": "1a2b9396-6fbc-40cd-ae74-d9cdf1232bce",
   "metadata": {
    "execution": {
     "iopub.execute_input": "2024-07-25T13:02:31.559224Z",
     "iopub.status.busy": "2024-07-25T13:02:31.558800Z",
     "iopub.status.idle": "2024-07-25T13:02:32.474412Z",
     "shell.execute_reply": "2024-07-25T13:02:32.473751Z",
     "shell.execute_reply.started": "2024-07-25T13:02:31.559191Z"
    },
    "tags": []
   },
   "source": [
    "df_final = spark.sql('''\n",
    "    SELECT\n",
    "        ano,\n",
    "        REPLACE(REPLACE(REPLACE(cnpj, '.', ''), '/', ''), '-', '') AS cnpj,\n",
    "        cnpj_scp,\n",
    "        forma_tributacao,\n",
    "        quantidade_escrituracoes        \n",
    "    FROM\n",
    "        regime_tributario\n",
    "''')\n",
    "df_final.show()"
   ],
   "outputs": [],
   "execution_count": null
  },
  {
   "cell_type": "code",
   "id": "17873989-1fe3-432d-8ea9-237541ef1b9f",
   "metadata": {
    "execution": {
     "iopub.execute_input": "2024-07-25T13:03:41.908909Z",
     "iopub.status.busy": "2024-07-25T13:03:41.908467Z",
     "iopub.status.idle": "2024-07-25T13:04:13.769559Z",
     "shell.execute_reply": "2024-07-25T13:04:13.768897Z",
     "shell.execute_reply.started": "2024-07-25T13:03:41.908879Z"
    },
    "tags": []
   },
   "source": "df_final.coalesce(1).write.mode('overwrite').parquet('./Regime_Tributario/arquivo_parquet')",
   "outputs": [],
   "execution_count": null
  }
 ],
 "metadata": {
  "kernelspec": {
   "display_name": "PySpark",
   "language": "python",
   "name": "spark_magic_pyspark"
  },
  "language_info": {
   "codemirror_mode": {
    "name": "python",
    "version": 3
   },
   "file_extension": ".py",
   "mimetype": "text/x-python",
   "name": "pyspark",
   "pygments_lexer": "python3"
  }
 },
 "nbformat": 4,
 "nbformat_minor": 5
}

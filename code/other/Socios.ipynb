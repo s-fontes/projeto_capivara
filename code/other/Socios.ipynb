{
 "cells": [
  {
   "cell_type": "code",
   "id": "6ba29c88-7a03-4b0a-bb15-1f6f8e1755e8",
   "metadata": {
    "execution": {
     "iopub.execute_input": "2024-07-25T00:40:41.611079Z",
     "iopub.status.busy": "2024-07-25T00:40:41.610644Z",
     "iopub.status.idle": "2024-07-25T00:41:27.483658Z",
     "shell.execute_reply": "2024-07-25T00:41:27.482936Z",
     "shell.execute_reply.started": "2024-07-25T00:40:41.611048Z"
    },
    "tags": []
   },
   "source": [
    "\n",
    "from delta.tables import *\n",
    "from pyspark.sql import *\n",
    "from pyspark.sql.functions import *\n",
    "from pyspark.sql.types import StringType\n",
    "from pyspark.sql.utils import *\n",
    "from pyspark.sql.window import *"
   ],
   "outputs": [],
   "execution_count": null
  },
  {
   "cell_type": "code",
   "id": "2835dd32-1b93-430d-8c0d-3072fefebabf",
   "metadata": {
    "execution": {
     "iopub.execute_input": "2024-07-25T00:41:27.485413Z",
     "iopub.status.busy": "2024-07-25T00:41:27.485077Z",
     "iopub.status.idle": "2024-07-25T00:41:28.847837Z",
     "shell.execute_reply": "2024-07-25T00:41:28.847050Z",
     "shell.execute_reply.started": "2024-07-25T00:41:27.485385Z"
    }
   },
   "source": [
    "spark = SparkSession.builder.getOrCreate()"
   ],
   "outputs": [],
   "execution_count": null
  },
  {
   "cell_type": "code",
   "id": "55610dfb-15a0-4d3e-9403-c7a042768dcf",
   "metadata": {
    "execution": {
     "iopub.execute_input": "2024-07-25T00:48:18.824956Z",
     "iopub.status.busy": "2024-07-25T00:48:18.824540Z",
     "iopub.status.idle": "2024-07-25T00:48:18.984992Z",
     "shell.execute_reply": "2024-07-25T00:48:18.984289Z",
     "shell.execute_reply.started": "2024-07-25T00:48:18.824925Z"
    },
    "tags": []
   },
   "source": [
    "def calcular_digitos_verificadores(df):\n",
    "    # Remove caracteres não numéricos do CNPJ\n",
    "    df = df.withColumn(\"cnpj_base\", expr(\"regexp_replace(cnpj, '[^0-9]', '')\"))\n",
    "\n",
    "    # Verifica se o CNPJ tem 12 dígitos\n",
    "    df = df.filter(length(col(\"cnpj_base\")) == 12)\n",
    "\n",
    "    # Cálculo do primeiro dígito verificador\n",
    "    df = df.withColumn(\"soma_1\", col(\"cnpj_base\").substr(1, 1).cast(\"int\") * 5 +\n",
    "                       col(\"cnpj_base\").substr(2, 1).cast(\"int\") * 4 +\n",
    "                       col(\"cnpj_base\").substr(3, 1).cast(\"int\") * 3 +\n",
    "                       col(\"cnpj_base\").substr(4, 1).cast(\"int\") * 2 +\n",
    "                       col(\"cnpj_base\").substr(5, 1).cast(\"int\") * 9 +\n",
    "                       col(\"cnpj_base\").substr(6, 1).cast(\"int\") * 8 +\n",
    "                       col(\"cnpj_base\").substr(7, 1).cast(\"int\") * 7 +\n",
    "                       col(\"cnpj_base\").substr(8, 1).cast(\"int\") * 6 +\n",
    "                       col(\"cnpj_base\").substr(9, 1).cast(\"int\") * 5 +\n",
    "                       col(\"cnpj_base\").substr(10, 1).cast(\"int\") * 4 +\n",
    "                       col(\"cnpj_base\").substr(11, 1).cast(\"int\") * 3 +\n",
    "                       col(\"cnpj_base\").substr(12, 1).cast(\"int\") * 2)\n",
    "\n",
    "    df = df.withColumn(\"resto_1\", col(\"soma_1\") % 11)\n",
    "    df = df.withColumn(\"digito_1\", when(col(\"resto_1\") < 2, 0).otherwise(11 - col(\"resto_1\")))\n",
    "\n",
    "    # Adiciona o primeiro dígito verificador ao CNPJ\n",
    "    df = df.withColumn(\"cnpj_com_digito_1\", concat(col(\"cnpj_base\"), col(\"digito_1\").cast(StringType())))\n",
    "\n",
    "    # Cálculo do segundo dígito verificador\n",
    "    df = df.withColumn(\"soma_2\", col(\"cnpj_com_digito_1\").substr(1, 1).cast(\"int\") * 6 +\n",
    "                       col(\"cnpj_com_digito_1\").substr(2, 1).cast(\"int\") * 5 +\n",
    "                       col(\"cnpj_com_digito_1\").substr(3, 1).cast(\"int\") * 4 +\n",
    "                       col(\"cnpj_com_digito_1\").substr(4, 1).cast(\"int\") * 3 +\n",
    "                       col(\"cnpj_com_digito_1\").substr(5, 1).cast(\"int\") * 2 +\n",
    "                       col(\"cnpj_com_digito_1\").substr(6, 1).cast(\"int\") * 9 +\n",
    "                       col(\"cnpj_com_digito_1\").substr(7, 1).cast(\"int\") * 8 +\n",
    "                       col(\"cnpj_com_digito_1\").substr(8, 1).cast(\"int\") * 7 +\n",
    "                       col(\"cnpj_com_digito_1\").substr(9, 1).cast(\"int\") * 6 +\n",
    "                       col(\"cnpj_com_digito_1\").substr(10, 1).cast(\"int\") * 5 +\n",
    "                       col(\"cnpj_com_digito_1\").substr(11, 1).cast(\"int\") * 4 +\n",
    "                       col(\"cnpj_com_digito_1\").substr(12, 1).cast(\"int\") * 3 +\n",
    "                       col(\"cnpj_com_digito_1\").substr(13, 1).cast(\"int\") * 2)\n",
    "\n",
    "    df = df.withColumn(\"resto_2\", col(\"soma_2\") % 11)\n",
    "    df = df.withColumn(\"digito_2\", when(col(\"resto_2\") < 2, 0).otherwise(11 - col(\"resto_2\")))\n",
    "\n",
    "    # Combina os dígitos verificadores\n",
    "    df = df.withColumn(\"digitos_verificadores\",\n",
    "                       concat(col(\"digito_1\").cast(StringType()), col(\"digito_2\").cast(StringType())))\n",
    "\n",
    "    return df.select(\"cnpj\", \"identificador_socio\", \"nome_socio\", \"cnpj_cpf_socio\", \"qualificacao_socio\",\n",
    "                     \"data_entrada_sociedade\", \"pais\", \"representante_legal\", \"nome_representante\",\n",
    "                     \"qualificacao_representante_legal\", \"faixa_etaria\", \"digitos_verificadores\")\n"
   ],
   "outputs": [],
   "execution_count": null
  },
  {
   "cell_type": "code",
   "id": "137fee5d-119d-4b3a-83fc-0673948187d0",
   "metadata": {
    "execution": {
     "iopub.execute_input": "2024-07-25T00:48:00.165230Z",
     "iopub.status.busy": "2024-07-25T00:48:00.164800Z",
     "iopub.status.idle": "2024-07-25T00:48:03.620817Z",
     "shell.execute_reply": "2024-07-25T00:48:03.620081Z",
     "shell.execute_reply.started": "2024-07-25T00:48:00.165198Z"
    },
    "tags": []
   },
   "source": [
    "##READ FILES\n",
    "\n",
    "manual_columns = [\n",
    "    \"cnpj_basico\", \"identificador_socio\", \"nome_socio\", \"cnpj_cpf_socio\", \"qualificacao_socio\",\n",
    "    \"data_entrada_sociedade\", \"pais\", \"representante_legal\", \"nome_representante\", \"qualificacao_representante_legal\",\n",
    "    \"faixa_etaria\"\n",
    "]\n",
    "\n",
    "df_socios = spark.read.format(\"csv\").option(\"header\", \"false\").option(\"sep\", \";\").load('./Socio/*.csv')\n",
    "df_socios = df_socios.toDF(*manual_columns)\n",
    "df_socios.createOrReplaceTempView(\"socios\")"
   ],
   "outputs": [],
   "execution_count": null
  },
  {
   "cell_type": "code",
   "id": "1a2b9396-6fbc-40cd-ae74-d9cdf1232bce",
   "metadata": {
    "execution": {
     "iopub.execute_input": "2024-07-25T00:48:03.622574Z",
     "iopub.status.busy": "2024-07-25T00:48:03.622259Z",
     "iopub.status.idle": "2024-07-25T00:48:03.760901Z",
     "shell.execute_reply": "2024-07-25T00:48:03.760144Z",
     "shell.execute_reply.started": "2024-07-25T00:48:03.622547Z"
    },
    "tags": []
   },
   "source": [
    "df_socios.printSchema()"
   ],
   "outputs": [],
   "execution_count": null
  },
  {
   "cell_type": "code",
   "id": "17873989-1fe3-432d-8ea9-237541ef1b9f",
   "metadata": {
    "execution": {
     "iopub.execute_input": "2024-07-25T00:48:20.439178Z",
     "iopub.status.busy": "2024-07-25T00:48:20.438752Z",
     "iopub.status.idle": "2024-07-25T00:48:21.336728Z",
     "shell.execute_reply": "2024-07-25T00:48:21.335980Z",
     "shell.execute_reply.started": "2024-07-25T00:48:20.439144Z"
    },
    "tags": []
   },
   "source": [
    "df_socios_ajustado = spark.sql('''\n",
    "    SELECT \n",
    "        CONCAT(cnpj_basico, '0001') AS cnpj,\n",
    "        identificador_socio,\n",
    "        nome_socio,\n",
    "        cnpj_cpf_socio,\n",
    "        qualificacao_socio,\n",
    "        data_entrada_sociedade,\n",
    "        pais,\n",
    "        representante_legal,\n",
    "        nome_representante,\n",
    "        qualificacao_representante_legal,\n",
    "        faixa_etaria\n",
    "    FROM\n",
    "        socios\n",
    "''')\n",
    "df_socios_ajustado.show()"
   ],
   "outputs": [],
   "execution_count": null
  },
  {
   "cell_type": "code",
   "id": "8847e45c-bdfb-41a5-aceb-4b5cb08a5ce9",
   "metadata": {
    "execution": {
     "iopub.execute_input": "2024-07-25T00:48:23.101630Z",
     "iopub.status.busy": "2024-07-25T00:48:23.101186Z",
     "iopub.status.idle": "2024-07-25T00:48:23.462442Z",
     "shell.execute_reply": "2024-07-25T00:48:23.461656Z",
     "shell.execute_reply.started": "2024-07-25T00:48:23.101595Z"
    },
    "tags": []
   },
   "source": [
    "resultado = calcular_digitos_verificadores(df_socios_ajustado)\n",
    "resultado.createOrReplaceTempView('resultado')"
   ],
   "outputs": [],
   "execution_count": null
  },
  {
   "cell_type": "code",
   "id": "05a3f56b-0f22-4d7e-b5e5-d4478d21f4e6",
   "metadata": {
    "execution": {
     "iopub.execute_input": "2024-07-25T00:50:04.229336Z",
     "iopub.status.busy": "2024-07-25T00:50:04.228878Z",
     "iopub.status.idle": "2024-07-25T00:50:17.801914Z",
     "shell.execute_reply": "2024-07-25T00:50:17.801149Z",
     "shell.execute_reply.started": "2024-07-25T00:50:04.229303Z"
    },
    "tags": []
   },
   "source": [
    "df_final = spark.sql('''\n",
    "    SELECT \n",
    "        CONCAT(cnpj, digitos_verificadores) as cnpj,\n",
    "        identificador_socio,\n",
    "        nome_socio,\n",
    "        cnpj_cpf_socio,\n",
    "        qualificacao_socio,\n",
    "        data_entrada_sociedade,\n",
    "        pais,\n",
    "        representante_legal,\n",
    "        nome_representante,\n",
    "        qualificacao_representante_legal,\n",
    "        faixa_etaria\n",
    "    FROM\n",
    "        resultado\n",
    "''')\n",
    "df_final.count()"
   ],
   "outputs": [],
   "execution_count": null
  },
  {
   "cell_type": "code",
   "id": "2a5636f9-e857-478b-9ef6-a2b7e59c1e6e",
   "metadata": {
    "execution": {
     "iopub.execute_input": "2024-07-25T00:50:31.290145Z",
     "iopub.status.busy": "2024-07-25T00:50:31.289641Z",
     "iopub.status.idle": "2024-07-25T00:54:37.477572Z",
     "shell.execute_reply": "2024-07-25T00:54:37.476789Z",
     "shell.execute_reply.started": "2024-07-25T00:50:31.290111Z"
    },
    "tags": []
   },
   "source": "df_final.coalesce(1).write.mode('overwrite').parquet('./Socio/socios_parquet')",
   "outputs": [],
   "execution_count": null
  }
 ],
 "metadata": {
  "kernelspec": {
   "display_name": "PySpark",
   "language": "python",
   "name": "spark_magic_pyspark"
  },
  "language_info": {
   "codemirror_mode": {
    "name": "python",
    "version": 3
   },
   "file_extension": ".py",
   "mimetype": "text/x-python",
   "name": "pyspark",
   "pygments_lexer": "python3"
  }
 },
 "nbformat": 4,
 "nbformat_minor": 5
}
